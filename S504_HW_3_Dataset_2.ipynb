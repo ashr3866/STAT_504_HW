{
 "cells": [
  {
   "cell_type": "markdown",
   "metadata": {},
   "source": [
    "####        "
   ]
  },
  {
   "cell_type": "markdown",
   "metadata": {},
   "source": [
    "## STAT 504 Analytics\n",
    "## Homework 3 for Dataset 2 - Music Data\n",
    "### Mohammad Ashrafuzzaman"
   ]
  },
  {
   "cell_type": "code",
   "execution_count": 2,
   "metadata": {
    "collapsed": false
   },
   "outputs": [
    {
     "name": "stdout",
     "output_type": "stream",
     "text": [
      "Couldn't import dot_parser, loading of dot files will not be possible.\n"
     ]
    }
   ],
   "source": [
    "import matplotlib\n",
    "%matplotlib nbagg\n",
    "import matplotlib.pyplot as plt\n",
    "from ggplot import *\n",
    "\n",
    "from pprint import pprint\n",
    "import pyparser\n",
    "import pyparsing\n",
    "from pandas import DataFrame\n",
    "import pandas as pd\n",
    "import numpy as np\n",
    "import seaborn as sns\n",
    "import pydot\n",
    "import pylab\n",
    "import scipy.sparse as sp\n",
    "import urllib\n",
    "import math\n",
    "import time\n",
    "import json\n",
    "from pandas.io.json import json_normalize\n",
    "from math import log\n",
    "from math import exp\n",
    "import pylab\n",
    "from sklearn.linear_model import LinearRegression\n",
    "from sklearn.linear_model import LogisticRegression\n",
    "from sklearn.externals.six import StringIO  \n",
    "from sklearn import svm\n",
    "from sklearn.tree import DecisionTreeClassifier\n",
    "from sklearn.cross_validation import KFold\n",
    "from sklearn.datasets import load_iris\n",
    "from sklearn.cross_validation import train_test_split\n",
    "from sklearn.neighbors import KNeighborsClassifier\n",
    "from sklearn.dummy import DummyClassifier\n",
    "from sklearn.metrics import classification_report\n",
    "from sklearn.feature_extraction.text import CountVectorizer\n",
    "from sklearn.cross_validation import cross_val_score\n",
    "from sklearn.feature_selection import SelectKBest, f_classif, SelectFpr, chi2\n",
    "from sklearn import metrics\n",
    "from sklearn.metrics import roc_auc_score\n",
    "from sklearn.naive_bayes import MultinomialNB\n",
    "from sklearn.naive_bayes import GaussianNB\n",
    "from sklearn.naive_bayes import BernoulliNB\n",
    "from sklearn.ensemble import RandomForestClassifier\n",
    "from sklearn.ensemble import BaggingClassifier\n",
    "from sklearn.ensemble import ExtraTreesClassifier\n",
    "from IPython.display import Image\n",
    "\n"
   ]
  },
  {
   "cell_type": "markdown",
   "metadata": {},
   "source": [
    "## DATASET 2 - MUSIC DATA\n",
    "\n",
    "Filename: \"music.json\""
   ]
  },
  {
   "cell_type": "markdown",
   "metadata": {},
   "source": [
    "## Data Loading and Massaging"
   ]
  },
  {
   "cell_type": "code",
   "execution_count": 3,
   "metadata": {
    "collapsed": false
   },
   "outputs": [],
   "source": [
    "file = 'music.json'\n",
    "with open(file, 'rU') as f:\n",
    "    data = [json.loads(row) for row in f]\n",
    "    data2 = pd.DataFrame(data)\n",
    "music51 = data2[(data2.overall==5) | (data2.overall==1)]\n",
    "Xmusic = music51.reviewText\n",
    "ymusic = music51.overall\n",
    "ybin = np.where(ymusic==5, 1, 0)\n",
    "kfm = KFold(len(ymusic), n_folds = 10, random_state = 338)\n",
    "vect = CountVectorizer(max_features = 1000)\n"
   ]
  },
  {
   "cell_type": "code",
   "execution_count": 4,
   "metadata": {
    "collapsed": false
   },
   "outputs": [],
   "source": [
    "X = vect.fit_transform(Xmusic)\n",
    "y = ybin\n"
   ]
  },
  {
   "cell_type": "markdown",
   "metadata": {},
   "source": [
    "# MODEL EVALUATIONS\n",
    "\n",
    "## 1. Null Model "
   ]
  },
  {
   "cell_type": "code",
   "execution_count": 5,
   "metadata": {
    "collapsed": false
   },
   "outputs": [
    {
     "name": "stdout",
     "output_type": "stream",
     "text": [
      "The AUC with Null Model:  0.5\n",
      "Time:  0.0240001678467\n"
     ]
    }
   ],
   "source": [
    "start = time.time()\n",
    "ypredm = np.ones(131960)\n",
    "null_score = metrics.roc_auc_score(ybin, ypredm)\n",
    "end = time.time()\n",
    "time_1_null = end - start\n",
    "print \"The AUC with Null Model: \", null_score\n",
    "print \"Time: \", time_1_null"
   ]
  },
  {
   "cell_type": "markdown",
   "metadata": {
    "collapsed": false
   },
   "source": [
    "### 2. Logistic Regression Model"
   ]
  },
  {
   "cell_type": "code",
   "execution_count": 6,
   "metadata": {
    "collapsed": false
   },
   "outputs": [
    {
     "name": "stdout",
     "output_type": "stream",
     "text": [
      "Accuracy with Logistic Regression is:  0.951023037284\n",
      "ROC AUC with Logistic Regression is : 0.951540900709\n",
      "Time =  109.996999979\n"
     ]
    }
   ],
   "source": [
    "start = time.time()\n",
    "lreg = LogisticRegression(random_state = 22, C=1e9)\n",
    "lreg.fit(X,y)\n",
    "lreg_scores_acc = cross_val_score(lreg, X, y, cv=kfm, scoring='accuracy').mean()\n",
    "lreg_scores_roc = cross_val_score(lreg, X, y, cv=kfm, scoring='roc_auc').mean()\n",
    "end = time.time()\n",
    "time_1_logreg = end - start\n",
    "print \"Accuracy with Logistic Regression is: \", lreg_scores_acc\n",
    "print \"ROC AUC with Logistic Regression is :\", lreg_scores_roc\n",
    "print \"Time = \", time_1_logreg"
   ]
  },
  {
   "cell_type": "markdown",
   "metadata": {},
   "source": [
    "### 3. K Nearest-Neighbor Model"
   ]
  },
  {
   "cell_type": "code",
   "execution_count": null,
   "metadata": {
    "collapsed": false
   },
   "outputs": [],
   "source": [
    "# Find an optimal value of K for KNN\n",
    "k_range = range(1, 20)\n",
    "k_scores_acc = []\n",
    "k_scores_roc = []\n",
    "start = time.time()\n",
    "for k in k_range:\n",
    "    knnopt = KNeighborsClassifier(n_neighbors=k)\n",
    "    scores_acc = cross_val_score(knnopt, X, y, cv=kfm, scoring='accuracy')\n",
    "    k_scores_acc.append(scores_acc.mean())\n",
    "    scores_roc = cross_val_score(knnopt, X, y, cv=kfm, scoring='roc_auc')\n",
    "    k_scores_roc.append(scores_roc.mean())\n",
    "end = time.time()\n",
    "print \"k_scores_acc: \", k_scores_acc\n",
    "print \"k_scores_roc: \", k_scores_roc\n",
    "print \"Time: \" + str(end - start)\n"
   ]
  },
  {
   "cell_type": "code",
   "execution_count": null,
   "metadata": {
    "collapsed": false,
    "scrolled": true
   },
   "outputs": [],
   "source": [
    "import matplotlib\n",
    "%matplotlib nbagg\n",
    "plt.plot(k_range, k_scores_acc, color = 'red', linewidth = 1)\n",
    "plt.xlabel('Value of k')\n",
    "plt.ylabel('Accuracy')\n"
   ]
  },
  {
   "cell_type": "code",
   "execution_count": null,
   "metadata": {
    "collapsed": false,
    "scrolled": true
   },
   "outputs": [],
   "source": [
    "import matplotlib\n",
    "%matplotlib nbagg\n",
    "plt.plot(k_range, k_scores_roc, color = 'green', linewidth = 1)\n",
    "plt.xlabel('Value of k')\n",
    "plt.ylabel('ROC AUC')"
   ]
  },
  {
   "cell_type": "markdown",
   "metadata": {},
   "source": [
    "Looks like the optimal value of k is 99 for both Accuracy and ROC AUC.\n",
    "\n",
    "#### K Nearest-Neighbor Model with k=99"
   ]
  },
  {
   "cell_type": "code",
   "execution_count": null,
   "metadata": {
    "collapsed": false
   },
   "outputs": [],
   "source": [
    "start = time.time()\n",
    "knn = KNeighborsClassifier(n_neighbors=99)\n",
    "knn_scores_acc = cross_val_score(knn, X, y, cv=KFold(X.shape[0], n_folds=10, shuffle=True), scoring='accuracy').mean()\n",
    "knn = KNeighborsClassifier(n_neighbors=99)\n",
    "knn_scores_roc = cross_val_score(knn, X, y, cv=KFold(X.shape[0], n_folds=10, shuffle=True), scoring='roc_auc').mean()\n",
    "end = time.time()\n",
    "time_1_knn = end - start\n",
    "print \"Accuracy with kNN with k=99: \", knn_scores_acc\n",
    "print \"Accuracy with kNN with k=99: \", knn_scores_roc\n",
    "print \"Time: \" + str(time_1_knn)\n"
   ]
  },
  {
   "cell_type": "markdown",
   "metadata": {},
   "source": [
    "### 4. Naive-Bayes - Multinomial Model"
   ]
  },
  {
   "cell_type": "code",
   "execution_count": 7,
   "metadata": {
    "collapsed": false
   },
   "outputs": [
    {
     "name": "stdout",
     "output_type": "stream",
     "text": [
      "Accuracy with Naive-Bayes - Multinomial Model:  0.927712943316\n",
      "ROC AUC with Naive-Bayes - Multinomial Model:  0.924737098485\n",
      "Time:  2.31299996376\n"
     ]
    }
   ],
   "source": [
    "start = time.time()\n",
    "nbm = MultinomialNB()\n",
    "nbm.fit(X, y)\n",
    "MultinomialNB(alpha=1.0, class_prior=None, fit_prior=True)\n",
    "nbm_scores_acc = cross_val_score(nbm, X, y, cv=KFold(X.shape[0], n_folds=10, shuffle=True), scoring='accuracy').mean()\n",
    "nbm_scores_roc = cross_val_score(nbm, X, y, cv=KFold(X.shape[0], n_folds=10, shuffle=True), scoring='roc_auc').mean()\n",
    "end = time.time()\n",
    "time_1_nbm = end - start\n",
    "print \"Accuracy with Naive-Bayes - Multinomial Model: \", nbm_scores_acc\n",
    "print \"ROC AUC with Naive-Bayes - Multinomial Model: \", nbm_scores_roc\n",
    "print \"Time: \", time_1_nbm\n"
   ]
  },
  {
   "cell_type": "markdown",
   "metadata": {},
   "source": [
    "### 5. Naive-Bayes - Gaussian Model"
   ]
  },
  {
   "cell_type": "code",
   "execution_count": 10,
   "metadata": {
    "collapsed": false
   },
   "outputs": [
    {
     "name": "stdout",
     "output_type": "stream",
     "text": [
      "Accuracy with Naive-Bayes - Gaussian Model:  0.643785995756\n",
      "ROC AUC with Naive-Bayes - Gaussian Model:  0.77421806284\n",
      "Time:  39.3849999905\n"
     ]
    }
   ],
   "source": [
    "start = time.time()\n",
    "nbg = GaussianNB()\n",
    "nbg.fit(X.toarray(), y)\n",
    "GaussianNB()\n",
    "nbg_scores_acc = cross_val_score(nbg, X.toarray(), y, cv=KFold(X.shape[0], n_folds=10, shuffle=True), scoring='accuracy').mean()\n",
    "nbg_scores_roc = cross_val_score(nbg, X.toarray(), y, cv=KFold(X.shape[0], n_folds=10, shuffle=True), scoring='roc_auc').mean()\n",
    "end = time.time()\n",
    "time_1_nbg = end - start\n",
    "print \"Accuracy with Naive-Bayes - Gaussian Model: \", nbg_scores_acc\n",
    "print \"ROC AUC with Naive-Bayes - Gaussian Model: \", nbg_scores_roc\n",
    "print \"Time: \",  time_1_nbg\n"
   ]
  },
  {
   "cell_type": "markdown",
   "metadata": {},
   "source": [
    "### 6. Naive-Bayes - Bernoulli Model"
   ]
  },
  {
   "cell_type": "code",
   "execution_count": 11,
   "metadata": {
    "collapsed": false
   },
   "outputs": [
    {
     "name": "stdout",
     "output_type": "stream",
     "text": [
      "Accuracy with Naive-Bayes - Gaussian Model:  0.9202106699\n",
      "ROC AUC with Naive-Bayes - Gaussian Model:  0.92924700888\n",
      "Time:  3.07399988174\n"
     ]
    }
   ],
   "source": [
    "start = time.time()\n",
    "nbb = BernoulliNB()\n",
    "nbb.fit(X, y)\n",
    "BernoulliNB(alpha=1.0, class_prior=None, fit_prior=True)\n",
    "nbb_scores_acc = cross_val_score(nbb, X, y, cv=KFold(X.shape[0], n_folds=10, shuffle=True), scoring='accuracy').mean()\n",
    "nbb_scores_roc = cross_val_score(nbb, X, y, cv=KFold(X.shape[0], n_folds=10, shuffle=True), scoring='roc_auc').mean()\n",
    "end = time.time()\n",
    "time_1_nbb = end - start\n",
    "print \"Accuracy with Naive-Bayes - Gaussian Model: \", nbb_scores_acc\n",
    "print \"ROC AUC with Naive-Bayes - Gaussian Model: \", nbb_scores_roc\n",
    "print \"Time: \",  time_1_nbb"
   ]
  },
  {
   "cell_type": "code",
   "execution_count": 13,
   "metadata": {
    "collapsed": false
   },
   "outputs": [
    {
     "data": {
      "application/javascript": [
       "/* Put everything inside the global mpl namespace */\n",
       "window.mpl = {};\n",
       "\n",
       "mpl.get_websocket_type = function() {\n",
       "    if (typeof(WebSocket) !== 'undefined') {\n",
       "        return WebSocket;\n",
       "    } else if (typeof(MozWebSocket) !== 'undefined') {\n",
       "        return MozWebSocket;\n",
       "    } else {\n",
       "        alert('Your browser does not have WebSocket support.' +\n",
       "              'Please try Chrome, Safari or Firefox ≥ 6. ' +\n",
       "              'Firefox 4 and 5 are also supported but you ' +\n",
       "              'have to enable WebSockets in about:config.');\n",
       "    };\n",
       "}\n",
       "\n",
       "mpl.figure = function(figure_id, websocket, ondownload, parent_element) {\n",
       "    this.id = figure_id;\n",
       "\n",
       "    this.ws = websocket;\n",
       "\n",
       "    this.supports_binary = (this.ws.binaryType != undefined);\n",
       "\n",
       "    if (!this.supports_binary) {\n",
       "        var warnings = document.getElementById(\"mpl-warnings\");\n",
       "        if (warnings) {\n",
       "            warnings.style.display = 'block';\n",
       "            warnings.textContent = (\n",
       "                \"This browser does not support binary websocket messages. \" +\n",
       "                    \"Performance may be slow.\");\n",
       "        }\n",
       "    }\n",
       "\n",
       "    this.imageObj = new Image();\n",
       "\n",
       "    this.context = undefined;\n",
       "    this.message = undefined;\n",
       "    this.canvas = undefined;\n",
       "    this.rubberband_canvas = undefined;\n",
       "    this.rubberband_context = undefined;\n",
       "    this.format_dropdown = undefined;\n",
       "\n",
       "    this.image_mode = 'full';\n",
       "\n",
       "    this.root = $('<div/>');\n",
       "    this._root_extra_style(this.root)\n",
       "    this.root.attr('style', 'display: inline-block');\n",
       "\n",
       "    $(parent_element).append(this.root);\n",
       "\n",
       "    this._init_header(this);\n",
       "    this._init_canvas(this);\n",
       "    this._init_toolbar(this);\n",
       "\n",
       "    var fig = this;\n",
       "\n",
       "    this.waiting = false;\n",
       "\n",
       "    this.ws.onopen =  function () {\n",
       "            fig.send_message(\"supports_binary\", {value: fig.supports_binary});\n",
       "            fig.send_message(\"send_image_mode\", {});\n",
       "            fig.send_message(\"refresh\", {});\n",
       "        }\n",
       "\n",
       "    this.imageObj.onload = function() {\n",
       "            if (fig.image_mode == 'full') {\n",
       "                // Full images could contain transparency (where diff images\n",
       "                // almost always do), so we need to clear the canvas so that\n",
       "                // there is no ghosting.\n",
       "                fig.context.clearRect(0, 0, fig.canvas.width, fig.canvas.height);\n",
       "            }\n",
       "            fig.context.drawImage(fig.imageObj, 0, 0);\n",
       "            fig.waiting = false;\n",
       "        };\n",
       "\n",
       "    this.imageObj.onunload = function() {\n",
       "        this.ws.close();\n",
       "    }\n",
       "\n",
       "    this.ws.onmessage = this._make_on_message_function(this);\n",
       "\n",
       "    this.ondownload = ondownload;\n",
       "}\n",
       "\n",
       "mpl.figure.prototype._init_header = function() {\n",
       "    var titlebar = $(\n",
       "        '<div class=\"ui-dialog-titlebar ui-widget-header ui-corner-all ' +\n",
       "        'ui-helper-clearfix\"/>');\n",
       "    var titletext = $(\n",
       "        '<div class=\"ui-dialog-title\" style=\"width: 100%; ' +\n",
       "        'text-align: center; padding: 3px;\"/>');\n",
       "    titlebar.append(titletext)\n",
       "    this.root.append(titlebar);\n",
       "    this.header = titletext[0];\n",
       "}\n",
       "\n",
       "\n",
       "\n",
       "mpl.figure.prototype._canvas_extra_style = function(canvas_div) {\n",
       "\n",
       "}\n",
       "\n",
       "\n",
       "mpl.figure.prototype._root_extra_style = function(canvas_div) {\n",
       "\n",
       "}\n",
       "\n",
       "mpl.figure.prototype._init_canvas = function() {\n",
       "    var fig = this;\n",
       "\n",
       "    var canvas_div = $('<div/>');\n",
       "\n",
       "    canvas_div.attr('style', 'position: relative; clear: both; outline: 0');\n",
       "\n",
       "    function canvas_keyboard_event(event) {\n",
       "        return fig.key_event(event, event['data']);\n",
       "    }\n",
       "\n",
       "    canvas_div.keydown('key_press', canvas_keyboard_event);\n",
       "    canvas_div.keyup('key_release', canvas_keyboard_event);\n",
       "    this.canvas_div = canvas_div\n",
       "    this._canvas_extra_style(canvas_div)\n",
       "    this.root.append(canvas_div);\n",
       "\n",
       "    var canvas = $('<canvas/>');\n",
       "    canvas.addClass('mpl-canvas');\n",
       "    canvas.attr('style', \"left: 0; top: 0; z-index: 0; outline: 0\")\n",
       "\n",
       "    this.canvas = canvas[0];\n",
       "    this.context = canvas[0].getContext(\"2d\");\n",
       "\n",
       "    var rubberband = $('<canvas/>');\n",
       "    rubberband.attr('style', \"position: absolute; left: 0; top: 0; z-index: 1;\")\n",
       "\n",
       "    var pass_mouse_events = true;\n",
       "\n",
       "    canvas_div.resizable({\n",
       "        start: function(event, ui) {\n",
       "            pass_mouse_events = false;\n",
       "        },\n",
       "        resize: function(event, ui) {\n",
       "            fig.request_resize(ui.size.width, ui.size.height);\n",
       "        },\n",
       "        stop: function(event, ui) {\n",
       "            pass_mouse_events = true;\n",
       "            fig.request_resize(ui.size.width, ui.size.height);\n",
       "        },\n",
       "    });\n",
       "\n",
       "    function mouse_event_fn(event) {\n",
       "        if (pass_mouse_events)\n",
       "            return fig.mouse_event(event, event['data']);\n",
       "    }\n",
       "\n",
       "    rubberband.mousedown('button_press', mouse_event_fn);\n",
       "    rubberband.mouseup('button_release', mouse_event_fn);\n",
       "    // Throttle sequential mouse events to 1 every 20ms.\n",
       "    rubberband.mousemove('motion_notify', mouse_event_fn);\n",
       "\n",
       "    rubberband.mouseenter('figure_enter', mouse_event_fn);\n",
       "    rubberband.mouseleave('figure_leave', mouse_event_fn);\n",
       "\n",
       "    canvas_div.on(\"wheel\", function (event) {\n",
       "        event = event.originalEvent;\n",
       "        event['data'] = 'scroll'\n",
       "        if (event.deltaY < 0) {\n",
       "            event.step = 1;\n",
       "        } else {\n",
       "            event.step = -1;\n",
       "        }\n",
       "        mouse_event_fn(event);\n",
       "    });\n",
       "\n",
       "    canvas_div.append(canvas);\n",
       "    canvas_div.append(rubberband);\n",
       "\n",
       "    this.rubberband = rubberband;\n",
       "    this.rubberband_canvas = rubberband[0];\n",
       "    this.rubberband_context = rubberband[0].getContext(\"2d\");\n",
       "    this.rubberband_context.strokeStyle = \"#000000\";\n",
       "\n",
       "    this._resize_canvas = function(width, height) {\n",
       "        // Keep the size of the canvas, canvas container, and rubber band\n",
       "        // canvas in synch.\n",
       "        canvas_div.css('width', width)\n",
       "        canvas_div.css('height', height)\n",
       "\n",
       "        canvas.attr('width', width);\n",
       "        canvas.attr('height', height);\n",
       "\n",
       "        rubberband.attr('width', width);\n",
       "        rubberband.attr('height', height);\n",
       "    }\n",
       "\n",
       "    // Set the figure to an initial 600x600px, this will subsequently be updated\n",
       "    // upon first draw.\n",
       "    this._resize_canvas(600, 600);\n",
       "\n",
       "    // Disable right mouse context menu.\n",
       "    $(this.rubberband_canvas).bind(\"contextmenu\",function(e){\n",
       "        return false;\n",
       "    });\n",
       "\n",
       "    function set_focus () {\n",
       "        canvas.focus();\n",
       "        canvas_div.focus();\n",
       "    }\n",
       "\n",
       "    window.setTimeout(set_focus, 100);\n",
       "}\n",
       "\n",
       "mpl.figure.prototype._init_toolbar = function() {\n",
       "    var fig = this;\n",
       "\n",
       "    var nav_element = $('<div/>')\n",
       "    nav_element.attr('style', 'width: 100%');\n",
       "    this.root.append(nav_element);\n",
       "\n",
       "    // Define a callback function for later on.\n",
       "    function toolbar_event(event) {\n",
       "        return fig.toolbar_button_onclick(event['data']);\n",
       "    }\n",
       "    function toolbar_mouse_event(event) {\n",
       "        return fig.toolbar_button_onmouseover(event['data']);\n",
       "    }\n",
       "\n",
       "    for(var toolbar_ind in mpl.toolbar_items) {\n",
       "        var name = mpl.toolbar_items[toolbar_ind][0];\n",
       "        var tooltip = mpl.toolbar_items[toolbar_ind][1];\n",
       "        var image = mpl.toolbar_items[toolbar_ind][2];\n",
       "        var method_name = mpl.toolbar_items[toolbar_ind][3];\n",
       "\n",
       "        if (!name) {\n",
       "            // put a spacer in here.\n",
       "            continue;\n",
       "        }\n",
       "        var button = $('<button/>');\n",
       "        button.addClass('ui-button ui-widget ui-state-default ui-corner-all ' +\n",
       "                        'ui-button-icon-only');\n",
       "        button.attr('role', 'button');\n",
       "        button.attr('aria-disabled', 'false');\n",
       "        button.click(method_name, toolbar_event);\n",
       "        button.mouseover(tooltip, toolbar_mouse_event);\n",
       "\n",
       "        var icon_img = $('<span/>');\n",
       "        icon_img.addClass('ui-button-icon-primary ui-icon');\n",
       "        icon_img.addClass(image);\n",
       "        icon_img.addClass('ui-corner-all');\n",
       "\n",
       "        var tooltip_span = $('<span/>');\n",
       "        tooltip_span.addClass('ui-button-text');\n",
       "        tooltip_span.html(tooltip);\n",
       "\n",
       "        button.append(icon_img);\n",
       "        button.append(tooltip_span);\n",
       "\n",
       "        nav_element.append(button);\n",
       "    }\n",
       "\n",
       "    var fmt_picker_span = $('<span/>');\n",
       "\n",
       "    var fmt_picker = $('<select/>');\n",
       "    fmt_picker.addClass('mpl-toolbar-option ui-widget ui-widget-content');\n",
       "    fmt_picker_span.append(fmt_picker);\n",
       "    nav_element.append(fmt_picker_span);\n",
       "    this.format_dropdown = fmt_picker[0];\n",
       "\n",
       "    for (var ind in mpl.extensions) {\n",
       "        var fmt = mpl.extensions[ind];\n",
       "        var option = $(\n",
       "            '<option/>', {selected: fmt === mpl.default_extension}).html(fmt);\n",
       "        fmt_picker.append(option)\n",
       "    }\n",
       "\n",
       "    // Add hover states to the ui-buttons\n",
       "    $( \".ui-button\" ).hover(\n",
       "        function() { $(this).addClass(\"ui-state-hover\");},\n",
       "        function() { $(this).removeClass(\"ui-state-hover\");}\n",
       "    );\n",
       "\n",
       "    var status_bar = $('<span class=\"mpl-message\"/>');\n",
       "    nav_element.append(status_bar);\n",
       "    this.message = status_bar[0];\n",
       "}\n",
       "\n",
       "mpl.figure.prototype.request_resize = function(x_pixels, y_pixels) {\n",
       "    // Request matplotlib to resize the figure. Matplotlib will then trigger a resize in the client,\n",
       "    // which will in turn request a refresh of the image.\n",
       "    this.send_message('resize', {'width': x_pixels, 'height': y_pixels});\n",
       "}\n",
       "\n",
       "mpl.figure.prototype.send_message = function(type, properties) {\n",
       "    properties['type'] = type;\n",
       "    properties['figure_id'] = this.id;\n",
       "    this.ws.send(JSON.stringify(properties));\n",
       "}\n",
       "\n",
       "mpl.figure.prototype.send_draw_message = function() {\n",
       "    if (!this.waiting) {\n",
       "        this.waiting = true;\n",
       "        this.ws.send(JSON.stringify({type: \"draw\", figure_id: this.id}));\n",
       "    }\n",
       "}\n",
       "\n",
       "\n",
       "mpl.figure.prototype.handle_save = function(fig, msg) {\n",
       "    var format_dropdown = fig.format_dropdown;\n",
       "    var format = format_dropdown.options[format_dropdown.selectedIndex].value;\n",
       "    fig.ondownload(fig, format);\n",
       "}\n",
       "\n",
       "\n",
       "mpl.figure.prototype.handle_resize = function(fig, msg) {\n",
       "    var size = msg['size'];\n",
       "    if (size[0] != fig.canvas.width || size[1] != fig.canvas.height) {\n",
       "        fig._resize_canvas(size[0], size[1]);\n",
       "        fig.send_message(\"refresh\", {});\n",
       "    };\n",
       "}\n",
       "\n",
       "mpl.figure.prototype.handle_rubberband = function(fig, msg) {\n",
       "    var x0 = msg['x0'];\n",
       "    var y0 = fig.canvas.height - msg['y0'];\n",
       "    var x1 = msg['x1'];\n",
       "    var y1 = fig.canvas.height - msg['y1'];\n",
       "    x0 = Math.floor(x0) + 0.5;\n",
       "    y0 = Math.floor(y0) + 0.5;\n",
       "    x1 = Math.floor(x1) + 0.5;\n",
       "    y1 = Math.floor(y1) + 0.5;\n",
       "    var min_x = Math.min(x0, x1);\n",
       "    var min_y = Math.min(y0, y1);\n",
       "    var width = Math.abs(x1 - x0);\n",
       "    var height = Math.abs(y1 - y0);\n",
       "\n",
       "    fig.rubberband_context.clearRect(\n",
       "        0, 0, fig.canvas.width, fig.canvas.height);\n",
       "\n",
       "    fig.rubberband_context.strokeRect(min_x, min_y, width, height);\n",
       "}\n",
       "\n",
       "mpl.figure.prototype.handle_figure_label = function(fig, msg) {\n",
       "    // Updates the figure title.\n",
       "    fig.header.textContent = msg['label'];\n",
       "}\n",
       "\n",
       "mpl.figure.prototype.handle_cursor = function(fig, msg) {\n",
       "    var cursor = msg['cursor'];\n",
       "    switch(cursor)\n",
       "    {\n",
       "    case 0:\n",
       "        cursor = 'pointer';\n",
       "        break;\n",
       "    case 1:\n",
       "        cursor = 'default';\n",
       "        break;\n",
       "    case 2:\n",
       "        cursor = 'crosshair';\n",
       "        break;\n",
       "    case 3:\n",
       "        cursor = 'move';\n",
       "        break;\n",
       "    }\n",
       "    fig.rubberband_canvas.style.cursor = cursor;\n",
       "}\n",
       "\n",
       "mpl.figure.prototype.handle_message = function(fig, msg) {\n",
       "    fig.message.textContent = msg['message'];\n",
       "}\n",
       "\n",
       "mpl.figure.prototype.handle_draw = function(fig, msg) {\n",
       "    // Request the server to send over a new figure.\n",
       "    fig.send_draw_message();\n",
       "}\n",
       "\n",
       "mpl.figure.prototype.handle_image_mode = function(fig, msg) {\n",
       "    fig.image_mode = msg['mode'];\n",
       "}\n",
       "\n",
       "mpl.figure.prototype.updated_canvas_event = function() {\n",
       "    // Called whenever the canvas gets updated.\n",
       "    this.send_message(\"ack\", {});\n",
       "}\n",
       "\n",
       "// A function to construct a web socket function for onmessage handling.\n",
       "// Called in the figure constructor.\n",
       "mpl.figure.prototype._make_on_message_function = function(fig) {\n",
       "    return function socket_on_message(evt) {\n",
       "        if (evt.data instanceof Blob) {\n",
       "            /* FIXME: We get \"Resource interpreted as Image but\n",
       "             * transferred with MIME type text/plain:\" errors on\n",
       "             * Chrome.  But how to set the MIME type?  It doesn't seem\n",
       "             * to be part of the websocket stream */\n",
       "            evt.data.type = \"image/png\";\n",
       "\n",
       "            /* Free the memory for the previous frames */\n",
       "            if (fig.imageObj.src) {\n",
       "                (window.URL || window.webkitURL).revokeObjectURL(\n",
       "                    fig.imageObj.src);\n",
       "            }\n",
       "\n",
       "            fig.imageObj.src = (window.URL || window.webkitURL).createObjectURL(\n",
       "                evt.data);\n",
       "            fig.updated_canvas_event();\n",
       "            return;\n",
       "        }\n",
       "        else if (typeof evt.data === 'string' && evt.data.slice(0, 21) == \"data:image/png;base64\") {\n",
       "            fig.imageObj.src = evt.data;\n",
       "            fig.updated_canvas_event();\n",
       "            return;\n",
       "        }\n",
       "\n",
       "        var msg = JSON.parse(evt.data);\n",
       "        var msg_type = msg['type'];\n",
       "\n",
       "        // Call the  \"handle_{type}\" callback, which takes\n",
       "        // the figure and JSON message as its only arguments.\n",
       "        try {\n",
       "            var callback = fig[\"handle_\" + msg_type];\n",
       "        } catch (e) {\n",
       "            console.log(\"No handler for the '\" + msg_type + \"' message type: \", msg);\n",
       "            return;\n",
       "        }\n",
       "\n",
       "        if (callback) {\n",
       "            try {\n",
       "                // console.log(\"Handling '\" + msg_type + \"' message: \", msg);\n",
       "                callback(fig, msg);\n",
       "            } catch (e) {\n",
       "                console.log(\"Exception inside the 'handler_\" + msg_type + \"' callback:\", e, e.stack, msg);\n",
       "            }\n",
       "        }\n",
       "    };\n",
       "}\n",
       "\n",
       "// from http://stackoverflow.com/questions/1114465/getting-mouse-location-in-canvas\n",
       "mpl.findpos = function(e) {\n",
       "    //this section is from http://www.quirksmode.org/js/events_properties.html\n",
       "    var targ;\n",
       "    if (!e)\n",
       "        e = window.event;\n",
       "    if (e.target)\n",
       "        targ = e.target;\n",
       "    else if (e.srcElement)\n",
       "        targ = e.srcElement;\n",
       "    if (targ.nodeType == 3) // defeat Safari bug\n",
       "        targ = targ.parentNode;\n",
       "\n",
       "    // jQuery normalizes the pageX and pageY\n",
       "    // pageX,Y are the mouse positions relative to the document\n",
       "    // offset() returns the position of the element relative to the document\n",
       "    var x = e.pageX - $(targ).offset().left;\n",
       "    var y = e.pageY - $(targ).offset().top;\n",
       "\n",
       "    return {\"x\": x, \"y\": y};\n",
       "};\n",
       "\n",
       "mpl.figure.prototype.mouse_event = function(event, name) {\n",
       "    var canvas_pos = mpl.findpos(event)\n",
       "\n",
       "    if (name === 'button_press')\n",
       "    {\n",
       "        this.canvas.focus();\n",
       "        this.canvas_div.focus();\n",
       "    }\n",
       "\n",
       "    var x = canvas_pos.x;\n",
       "    var y = canvas_pos.y;\n",
       "\n",
       "    this.send_message(name, {x: x, y: y, button: event.button,\n",
       "                             step: event.step});\n",
       "\n",
       "    /* This prevents the web browser from automatically changing to\n",
       "     * the text insertion cursor when the button is pressed.  We want\n",
       "     * to control all of the cursor setting manually through the\n",
       "     * 'cursor' event from matplotlib */\n",
       "    event.preventDefault();\n",
       "    return false;\n",
       "}\n",
       "\n",
       "mpl.figure.prototype._key_event_extra = function(event, name) {\n",
       "    // Handle any extra behaviour associated with a key event\n",
       "}\n",
       "\n",
       "mpl.figure.prototype.key_event = function(event, name) {\n",
       "\n",
       "    // Prevent repeat events\n",
       "    if (name == 'key_press')\n",
       "    {\n",
       "        if (event.which === this._key)\n",
       "            return;\n",
       "        else\n",
       "            this._key = event.which;\n",
       "    }\n",
       "    if (name == 'key_release')\n",
       "        this._key = null;\n",
       "\n",
       "    var value = '';\n",
       "    if (event.ctrlKey && event.which != 17)\n",
       "        value += \"ctrl+\";\n",
       "    if (event.altKey && event.which != 18)\n",
       "        value += \"alt+\";\n",
       "    if (event.shiftKey && event.which != 16)\n",
       "        value += \"shift+\";\n",
       "\n",
       "    value += 'k';\n",
       "    value += event.which.toString();\n",
       "\n",
       "    this._key_event_extra(event, name);\n",
       "\n",
       "    this.send_message(name, {key: value});\n",
       "    return false;\n",
       "}\n",
       "\n",
       "mpl.figure.prototype.toolbar_button_onclick = function(name) {\n",
       "    if (name == 'download') {\n",
       "        this.handle_save(this, null);\n",
       "    } else {\n",
       "        this.send_message(\"toolbar_button\", {name: name});\n",
       "    }\n",
       "};\n",
       "\n",
       "mpl.figure.prototype.toolbar_button_onmouseover = function(tooltip) {\n",
       "    this.message.textContent = tooltip;\n",
       "};\n",
       "mpl.toolbar_items = [[\"Home\", \"Reset original view\", \"fa fa-home icon-home\", \"home\"], [\"Back\", \"Back to  previous view\", \"fa fa-arrow-left icon-arrow-left\", \"back\"], [\"Forward\", \"Forward to next view\", \"fa fa-arrow-right icon-arrow-right\", \"forward\"], [\"\", \"\", \"\", \"\"], [\"Pan\", \"Pan axes with left mouse, zoom with right\", \"fa fa-arrows icon-move\", \"pan\"], [\"Zoom\", \"Zoom to rectangle\", \"fa fa-square-o icon-check-empty\", \"zoom\"], [\"\", \"\", \"\", \"\"], [\"Download\", \"Download plot\", \"fa fa-floppy-o icon-save\", \"download\"]];\n",
       "\n",
       "mpl.extensions = [\"eps\", \"jpeg\", \"pdf\", \"png\", \"ps\", \"raw\", \"svg\", \"tif\"];\n",
       "\n",
       "mpl.default_extension = \"png\";var comm_websocket_adapter = function(comm) {\n",
       "    // Create a \"websocket\"-like object which calls the given IPython comm\n",
       "    // object with the appropriate methods. Currently this is a non binary\n",
       "    // socket, so there is still some room for performance tuning.\n",
       "    var ws = {};\n",
       "\n",
       "    ws.close = function() {\n",
       "        comm.close()\n",
       "    };\n",
       "    ws.send = function(m) {\n",
       "        //console.log('sending', m);\n",
       "        comm.send(m);\n",
       "    };\n",
       "    // Register the callback with on_msg.\n",
       "    comm.on_msg(function(msg) {\n",
       "        //console.log('receiving', msg['content']['data'], msg);\n",
       "        // Pass the mpl event to the overriden (by mpl) onmessage function.\n",
       "        ws.onmessage(msg['content']['data'])\n",
       "    });\n",
       "    return ws;\n",
       "}\n",
       "\n",
       "mpl.mpl_figure_comm = function(comm, msg) {\n",
       "    // This is the function which gets called when the mpl process\n",
       "    // starts-up an IPython Comm through the \"matplotlib\" channel.\n",
       "\n",
       "    var id = msg.content.data.id;\n",
       "    // Get hold of the div created by the display call when the Comm\n",
       "    // socket was opened in Python.\n",
       "    var element = $(\"#\" + id);\n",
       "    var ws_proxy = comm_websocket_adapter(comm)\n",
       "\n",
       "    function ondownload(figure, format) {\n",
       "        window.open(figure.imageObj.src);\n",
       "    }\n",
       "\n",
       "    var fig = new mpl.figure(id, ws_proxy,\n",
       "                           ondownload,\n",
       "                           element.get(0));\n",
       "\n",
       "    // Call onopen now - mpl needs it, as it is assuming we've passed it a real\n",
       "    // web socket which is closed, not our websocket->open comm proxy.\n",
       "    ws_proxy.onopen();\n",
       "\n",
       "    fig.parent_element = element.get(0);\n",
       "    fig.cell_info = mpl.find_output_cell(\"<div id='\" + id + \"'></div>\");\n",
       "    if (!fig.cell_info) {\n",
       "        console.error(\"Failed to find cell for figure\", id, fig);\n",
       "        return;\n",
       "    }\n",
       "\n",
       "    var output_index = fig.cell_info[2]\n",
       "    var cell = fig.cell_info[0];\n",
       "\n",
       "};\n",
       "\n",
       "mpl.figure.prototype.handle_close = function(fig, msg) {\n",
       "    // Update the output cell to use the data from the current canvas.\n",
       "    fig.push_to_output();\n",
       "    var dataURL = fig.canvas.toDataURL();\n",
       "    // Re-enable the keyboard manager in IPython - without this line, in FF,\n",
       "    // the notebook keyboard shortcuts fail.\n",
       "    IPython.keyboard_manager.enable()\n",
       "    $(fig.parent_element).html('<img src=\"' + dataURL + '\">');\n",
       "    fig.send_message('closing', {});\n",
       "    fig.ws.close()\n",
       "}\n",
       "\n",
       "mpl.figure.prototype.push_to_output = function(remove_interactive) {\n",
       "    // Turn the data on the canvas into data in the output cell.\n",
       "    var dataURL = this.canvas.toDataURL();\n",
       "    this.cell_info[1]['text/html'] = '<img src=\"' + dataURL + '\">';\n",
       "}\n",
       "\n",
       "mpl.figure.prototype.updated_canvas_event = function() {\n",
       "    // Tell IPython that the notebook contents must change.\n",
       "    IPython.notebook.set_dirty(true);\n",
       "    this.send_message(\"ack\", {});\n",
       "    var fig = this;\n",
       "    // Wait a second, then push the new image to the DOM so\n",
       "    // that it is saved nicely (might be nice to debounce this).\n",
       "    setTimeout(function () { fig.push_to_output() }, 1000);\n",
       "}\n",
       "\n",
       "mpl.figure.prototype._init_toolbar = function() {\n",
       "    var fig = this;\n",
       "\n",
       "    var nav_element = $('<div/>')\n",
       "    nav_element.attr('style', 'width: 100%');\n",
       "    this.root.append(nav_element);\n",
       "\n",
       "    // Define a callback function for later on.\n",
       "    function toolbar_event(event) {\n",
       "        return fig.toolbar_button_onclick(event['data']);\n",
       "    }\n",
       "    function toolbar_mouse_event(event) {\n",
       "        return fig.toolbar_button_onmouseover(event['data']);\n",
       "    }\n",
       "\n",
       "    for(var toolbar_ind in mpl.toolbar_items){\n",
       "        var name = mpl.toolbar_items[toolbar_ind][0];\n",
       "        var tooltip = mpl.toolbar_items[toolbar_ind][1];\n",
       "        var image = mpl.toolbar_items[toolbar_ind][2];\n",
       "        var method_name = mpl.toolbar_items[toolbar_ind][3];\n",
       "\n",
       "        if (!name) { continue; };\n",
       "\n",
       "        var button = $('<button class=\"btn btn-default\" href=\"#\" title=\"' + name + '\"><i class=\"fa ' + image + ' fa-lg\"></i></button>');\n",
       "        button.click(method_name, toolbar_event);\n",
       "        button.mouseover(tooltip, toolbar_mouse_event);\n",
       "        nav_element.append(button);\n",
       "    }\n",
       "\n",
       "    // Add the status bar.\n",
       "    var status_bar = $('<span class=\"mpl-message\" style=\"text-align:right; float: right;\"/>');\n",
       "    nav_element.append(status_bar);\n",
       "    this.message = status_bar[0];\n",
       "\n",
       "    // Add the close button to the window.\n",
       "    var buttongrp = $('<div class=\"btn-group inline pull-right\"></div>');\n",
       "    var button = $('<button class=\"btn btn-mini btn-danger\" href=\"#\" title=\"Close figure\"><i class=\"fa fa-times icon-remove icon-large\"></i></button>');\n",
       "    button.click(function (evt) { fig.handle_close(fig, {}); } );\n",
       "    button.mouseover('Close figure', toolbar_mouse_event);\n",
       "    buttongrp.append(button);\n",
       "    var titlebar = this.root.find($('.ui-dialog-titlebar'));\n",
       "    titlebar.prepend(buttongrp);\n",
       "}\n",
       "\n",
       "\n",
       "mpl.figure.prototype._canvas_extra_style = function(el){\n",
       "    // this is important to make the div 'focusable\n",
       "    el.attr('tabindex', 0)\n",
       "    // reach out to IPython and tell the keyboard manager to turn it's self\n",
       "    // off when our div gets focus\n",
       "\n",
       "    // location in version 3\n",
       "    if (IPython.notebook.keyboard_manager) {\n",
       "        IPython.notebook.keyboard_manager.register_events(el);\n",
       "    }\n",
       "    else {\n",
       "        // location in version 2\n",
       "        IPython.keyboard_manager.register_events(el);\n",
       "    }\n",
       "\n",
       "}\n",
       "\n",
       "mpl.figure.prototype._key_event_extra = function(event, name) {\n",
       "    var manager = IPython.notebook.keyboard_manager;\n",
       "    if (!manager)\n",
       "        manager = IPython.keyboard_manager;\n",
       "\n",
       "    // Check for shift+enter\n",
       "    if (event.shiftKey && event.which == 13) {\n",
       "        this.canvas_div.blur();\n",
       "        event.shiftKey = false;\n",
       "        // Send a \"J\" for go to next cell\n",
       "        event.which = 74;\n",
       "        event.keyCode = 74;\n",
       "        manager.command_mode();\n",
       "        manager.handle_keydown(event);\n",
       "    }\n",
       "}\n",
       "\n",
       "mpl.figure.prototype.handle_save = function(fig, msg) {\n",
       "    fig.ondownload(fig, null);\n",
       "}\n",
       "\n",
       "\n",
       "mpl.find_output_cell = function(html_output) {\n",
       "    // Return the cell and output element which can be found *uniquely* in the notebook.\n",
       "    // Note - this is a bit hacky, but it is done because the \"notebook_saving.Notebook\"\n",
       "    // IPython event is triggered only after the cells have been serialised, which for\n",
       "    // our purposes (turning an active figure into a static one), is too late.\n",
       "    var cells = IPython.notebook.get_cells();\n",
       "    var ncells = cells.length;\n",
       "    for (var i=0; i<ncells; i++) {\n",
       "        var cell = cells[i];\n",
       "        if (cell.cell_type === 'code'){\n",
       "            for (var j=0; j<cell.output_area.outputs.length; j++) {\n",
       "                var data = cell.output_area.outputs[j];\n",
       "                if (data.data) {\n",
       "                    // IPython >= 3 moved mimebundle to data attribute of output\n",
       "                    data = data.data;\n",
       "                }\n",
       "                if (data['text/html'] == html_output) {\n",
       "                    return [cell, data, j];\n",
       "                }\n",
       "            }\n",
       "        }\n",
       "    }\n",
       "}\n",
       "\n",
       "// Register the function which deals with the matplotlib target/channel.\n",
       "// The kernel may be null if the page has been refreshed.\n",
       "if (IPython.notebook.kernel != null) {\n",
       "    IPython.notebook.kernel.comm_manager.register_target('matplotlib', mpl.mpl_figure_comm);\n",
       "}\n"
      ],
      "text/plain": [
       "<IPython.core.display.Javascript object>"
      ]
     },
     "metadata": {},
     "output_type": "display_data"
    },
    {
     "data": {
      "text/html": [
       "<img src=\"data:image/png;base64,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\">"
      ],
      "text/plain": [
       "<IPython.core.display.HTML object>"
      ]
     },
     "metadata": {},
     "output_type": "display_data"
    },
    {
     "data": {
      "text/plain": [
       "<matplotlib.text.Text at 0x4bc22860>"
      ]
     },
     "execution_count": 13,
     "metadata": {},
     "output_type": "execute_result"
    }
   ],
   "source": [
    "import matplotlib\n",
    "%matplotlib nbagg\n",
    "import matplotlib.patches as mpatches\n",
    "import matplotlib.pyplot as plt\n",
    "\n",
    "nbm_preds = nbm.predict_proba(X)[:,1]\n",
    "nbm_fpr, nbm_tpr, _ = metrics.roc_curve(y, nbm_preds)\n",
    "\n",
    "nbg_preds = nbg.predict_proba(X.toarray())[:,1]\n",
    "nbg_fpr, nbg_tpr, _ = metrics.roc_curve(y, nbg_preds)\n",
    "\n",
    "nbb_preds = nbb.predict_proba(X)[:,1]\n",
    "nbb_fpr, nbb_tpr, _ = metrics.roc_curve(y, nbb_preds)\n",
    "\n",
    "plt.plot(nbm_fpr, nbm_tpr, nbg_fpr, nbg_tpr, nbb_fpr, nbb_tpr, linewidth = 1.0)\n",
    "#color='magenta', label='lr_auc=0.956')\n",
    "#plt.plot(nbg_fpr, nbg_tpr, color='green')\n",
    "#plt.plot(nbb_fpr, nbb_tpr, color='yellow')\n",
    "blue_patch = mpatches.Patch(color='blue', label='NB-M')  \n",
    "red_patch= mpatches.Patch(color='red', label='NB-G' )  \n",
    "green_patch= mpatches.Patch(color='green', label='NB-B')  \n",
    "plt.legend(handles=[blue_patch, red_patch, green_patch], loc=4)\n",
    "\n",
    "plt.xlim([0.0, 1.0])\n",
    "plt.ylim([0.0, 1.0])\n",
    "plt.xlabel('False Positive Rate (1 - Specificity)')\n",
    "plt.ylabel('True Positive Rate (Sensitivity)')"
   ]
  },
  {
   "cell_type": "markdown",
   "metadata": {},
   "source": [
    "### 7. SVM Polynomial Kernel Model"
   ]
  },
  {
   "cell_type": "code",
   "execution_count": null,
   "metadata": {
    "collapsed": false
   },
   "outputs": [],
   "source": [
    "start = time.time()\n",
    "svmpoly = svm.SVC(kernel='poly', gamma=2)\n",
    "svmpoly.fit(X,y)\n",
    "svmpoly_scores = cross_val_score(svmpoly, X, y, cv=KFold(X.shape[0], n_folds=10, shuffle=True), scoring='accuracy')\n",
    "end = time.time()\n",
    "print svmpoly_scores\n",
    "print \"Time: \" + str(end-start)"
   ]
  },
  {
   "cell_type": "code",
   "execution_count": null,
   "metadata": {
    "collapsed": false
   },
   "outputs": [],
   "source": [
    "# search for an optimal gamma for SVM Polynomial Kernel Model\n",
    "g_range = range(1, 10)\n",
    "g_scores = []\n",
    "start = time.time()\n",
    "for k in g_range:\n",
    "    knn = svm.SVC(kernel='poly', gamma=k)\n",
    "    scores = cross_val_score(svmpoly, X, y, cv=KFold(X.shape[0], n_folds=10, shuffle=True), scoring='accuracy')\n",
    "    g_scores.append(scores.mean())\n",
    "end = time.time()\n",
    "print g_scores\n",
    "print \"Time: \" + str(end-start)"
   ]
  },
  {
   "cell_type": "code",
   "execution_count": null,
   "metadata": {
    "collapsed": false,
    "scrolled": true
   },
   "outputs": [],
   "source": [
    "import matplotlib\n",
    "%matplotlib nbagg\n",
    "plt.plot(g_range, g_scores)\n",
    "plt.xlabel('Gamma')\n",
    "plt.ylabel('Accuracy')"
   ]
  },
  {
   "cell_type": "code",
   "execution_count": null,
   "metadata": {
    "collapsed": false
   },
   "outputs": [],
   "source": [
    "# SVM Polynomial with optimized gamma\n",
    "start = time.time()\n",
    "svmpoly = svm.SVC(kernel='poly', gamma=8)\n",
    "svmpoly.fit(X,y)\n",
    "svmpoly_acc = cross_val_score(svmpoly, X, y, cv=KFold(X.shape[0], n_folds=10, shuffle=True), scoring='accuracy').mean()\n",
    "svmpoly_roc = cross_val_score(svmpoly, X, y, cv=KFold(X.shape[0], n_folds=10, shuffle=True), scoring='roc_auc').mean()\n",
    "end = time.time()\n",
    "time_1_svmpoly = end - start\n",
    "print \"SVM Polynomial with optimized gamma (=8) for accuracy: \" + str(svmpoly_acc)\n",
    "print \"SVM Polynomial with optimized gamma (=8) for ROC AUC: \" + str(svmpoly_roc)\n",
    "print \"Time: \" + str(time_1_svmpoly)"
   ]
  },
  {
   "cell_type": "markdown",
   "metadata": {},
   "source": [
    "### 8. SVM Gaussian Kernel Model"
   ]
  },
  {
   "cell_type": "code",
   "execution_count": null,
   "metadata": {
    "collapsed": false
   },
   "outputs": [],
   "source": [
    "svmg = svm.SVC(kernel='rbf', gamma=2)\n",
    "svmg.fit(X,y)\n",
    "svmg_scores = cross_val_score(svmg, X, y, cv=KFold(X.shape[0], n_folds=10, shuffle=True), scoring='accuracy')\n",
    "print svmg_scores"
   ]
  },
  {
   "cell_type": "code",
   "execution_count": null,
   "metadata": {
    "collapsed": false
   },
   "outputs": [],
   "source": [
    "# search for an optimal gamma for SVM Gaussian Kernel Model\n",
    "start = time.time()\n",
    "g_range = range(1, 10)\n",
    "g_scores = []\n",
    "for k in g_range:\n",
    "    svmg = svm.SVC(kernel='rbf', gamma=k)\n",
    "    scores = cross_val_score(svmg, X, y, cv=KFold(X.shape[0], n_folds=10, shuffle=True), scoring='accuracy')\n",
    "    g_scores.append(scores.mean())\n",
    "end = time.time()\n",
    "print g_scores\n",
    "print \"Time: \" + str(end-start)"
   ]
  },
  {
   "cell_type": "code",
   "execution_count": null,
   "metadata": {
    "collapsed": false
   },
   "outputs": [],
   "source": [
    "import matplotlib\n",
    "%matplotlib nbagg\n",
    "\n",
    "plt.plot(g_range, g_scores)\n",
    "plt.xlabel('Gamma')\n",
    "plt.ylabel('Accuracy')"
   ]
  },
  {
   "cell_type": "code",
   "execution_count": null,
   "metadata": {
    "collapsed": false
   },
   "outputs": [],
   "source": [
    "start = time.time()\n",
    "svmrbf = svm.SVC(kernel='rbf', gamma=8)\n",
    "svmrbf.fit(X,y)\n",
    "svmrbf_acc = cross_val_score(svmrbf, X, y, cv=KFold(X.shape[0], n_folds=10, shuffle=True), scoring='accuracy').mean()\n",
    "svmrbf_roc = cross_val_score(svmrbf, X, y, cv=KFold(X.shape[0], n_folds=10, shuffle=True), scoring='roc_auc').mean()\n",
    "end = time.time()\n",
    "time_1_svmrbf = end - start\n",
    "print \"Accuracy of SVM Gaussian Model with gamma=8 : \" + str(svmrbf_acc)\n",
    "print \"ROC AUC of SVM Gaussian Model with gamma=8 : \" + str(svmrbf_roc)\n",
    "print \"Time for SVM Gaussian Model with gamma=8 : \" + str(time_1_svmrbf)"
   ]
  },
  {
   "cell_type": "markdown",
   "metadata": {},
   "source": [
    "### 9. Decision Tree Classifier Model"
   ]
  },
  {
   "cell_type": "code",
   "execution_count": null,
   "metadata": {
    "collapsed": false
   },
   "outputs": [],
   "source": [
    "# Find optimal depth for Decision Tree Classifier Model\n",
    "start = time.time()\n",
    "dtc_range = range(1, 40)\n",
    "dtc_scores_acc = []\n",
    "dtc_scores_roc = []\n",
    "for k in dtc_range:\n",
    "    dtc = DecisionTreeClassifier(random_state = 22, max_depth=k)\n",
    "    dtc_scores_a = cross_val_score(dtc, X, y, cv=KFold(X.shape[0], n_folds=10, shuffle=True), scoring='accuracy').mean()\n",
    "    dtc_scores_acc.append(dtc_scores_a.mean())\n",
    "    dtc_scores_r = cross_val_score(dtc, X, y, cv=KFold(X.shape[0], n_folds=10, shuffle=True), scoring='roc_auc').mean()\n",
    "    dtc_scores_roc.append(dtc_scores_r.mean())\n",
    "end = time.time()\n",
    "print \"Accuracy of Decision Tree Classifier Model : \" + str(dtc_scores_acc)\n",
    "print \"ROC AUC of Decision Tree Classifier Model : \" + str(dtc_scores_roc)\n",
    "print \"Time: \" +str(end-start)"
   ]
  },
  {
   "cell_type": "code",
   "execution_count": null,
   "metadata": {
    "collapsed": false
   },
   "outputs": [],
   "source": [
    "import matplotlib\n",
    "%matplotlib nbagg\n",
    "plt.plot(dtc_range, dtc_scores_roc)\n",
    "plt.xlabel('Depth of Decision Tree')\n",
    "plt.ylabel('ROC AUC')"
   ]
  },
  {
   "cell_type": "markdown",
   "metadata": {},
   "source": [
    "#### Seems the best result happens at depth=3"
   ]
  },
  {
   "cell_type": "code",
   "execution_count": 24,
   "metadata": {
    "collapsed": false
   },
   "outputs": [
    {
     "name": "stdout",
     "output_type": "stream",
     "text": [
      "Accuracy of Decision Tree Classifier Model with optimal depth (=3) : 0.916542891785\n",
      "ROC AUC of Decision Tree Classifier Model with optimal depth (=3) : 0.697028981908\n",
      "Time: 40.3930001259\n"
     ]
    }
   ],
   "source": [
    "start = time.time()\n",
    "dtc = DecisionTreeClassifier(random_state = 22, max_depth=3)\n",
    "dtc.fit(X,y)\n",
    "dtc_scores_acc = cross_val_score(dtc, X, y, cv=KFold(X.shape[0], n_folds=10, shuffle=True), scoring='accuracy').mean()\n",
    "dtc_scores_auc = cross_val_score(dtc, X, y, cv=KFold(X.shape[0], n_folds=10, shuffle=True), scoring='roc_auc').mean()\n",
    "end = time.time()\n",
    "time_1_DTC_opt = end-start\n",
    "print \"Accuracy of Decision Tree Classifier Model with optimal depth (=3) : \" + str(dtc_scores_acc)\n",
    "print \"ROC AUC of Decision Tree Classifier Model with optimal depth (=3) : \" + str(dtc_scores_auc)\n",
    "print \"Time: \" +str(time_1_DTC_opt)"
   ]
  },
  {
   "cell_type": "markdown",
   "metadata": {},
   "source": [
    "### 10. Decision Tree Bagging Classification Method"
   ]
  },
  {
   "cell_type": "code",
   "execution_count": null,
   "metadata": {
    "collapsed": false
   },
   "outputs": [],
   "source": [
    "# Find optimal depth for Decision Tree Classifier Model\n",
    "start = time.time()\n",
    "bag_scores_acc = []\n",
    "bag_scores_roc = []\n",
    "bag_scores_mse = []\n",
    "bag = BaggingClassifier(max_samples = 1000, random_state = 22)\n",
    "bag_range = range(1, 50)\n",
    "for k in bag_range:\n",
    "    bag_cl = BaggingClassifier(bag, n_estimators=k, max_samples=1.0, max_features=5, bootstrap = False, bootstrap_features = True, random_state=42)\n",
    "    bag_cl.fit(X, y)\n",
    "    bag_scores_a = cross_val_score(bag_cl, X, y, cv=KFold(X.shape[0], n_folds=10, shuffle=True), scoring='accuracy')\n",
    "    bag_scores_m = cross_val_score(bag_cl, X, y, cv=KFold(X.shape[0], n_folds=10, shuffle=True), scoring='mean_squared_error')\n",
    "    bag_scores_r = cross_val_score(bag_cl, X, y, cv=KFold(X.shape[0], n_folds=10, shuffle=True), scoring='roc_auc') \n",
    "    bag_scores_acc.append(bag_scores_a.mean())\n",
    "    bag_scores_mse.append(np.mean(np.sqrt(-bag_scores_m)))\n",
    "    bag_scores_roc.append(bag_scores_r.mean())\n",
    "end = time.time()\n",
    "\n",
    "print bag_scores_acc\n",
    "print bag_scores_roc\n",
    "print bag_scores_mse\n",
    "print \"Time: \" + str(end-start)"
   ]
  },
  {
   "cell_type": "code",
   "execution_count": null,
   "metadata": {
    "collapsed": false
   },
   "outputs": [],
   "source": [
    "import matplotlib\n",
    "%matplotlib nbagg\n",
    "plt.plot(bag_range, bag_scores_mse)\n",
    "plt.xlabel('Max Depth')\n",
    "plt.ylabel('RMSE')"
   ]
  },
  {
   "cell_type": "code",
   "execution_count": 23,
   "metadata": {
    "collapsed": false
   },
   "outputs": [
    {
     "name": "stdout",
     "output_type": "stream",
     "text": [
      "Accuracy of Decision Tree Bagging Classification Method with optimal Estimator (=2) : 0.914458926948\n",
      "ROC AUC of Decision Tree Bagging Classification Method with optimal Estimator (=2) : 0.781821338408\n",
      "RMSE of Decision Tree Bagging Classification Method with optimal Estimator (=2) : -0.0856395877539\n",
      "Time: 474.269000053\n"
     ]
    }
   ],
   "source": [
    "start = time.time()\n",
    "bag = BaggingClassifier(max_samples = 1000, random_state = 22)\n",
    "bag_cl = BaggingClassifier(bag, n_estimators=2, max_samples=1.0, bootstrap = False, bootstrap_features = True, random_state=42)\n",
    "bag_cl.fit(X, y)\n",
    "bag_scores_acc = cross_val_score(bag_cl, X, y, cv=KFold(X.shape[0], n_folds=10, shuffle=True), scoring='accuracy').mean()\n",
    "bag_scores_mse = cross_val_score(bag_cl, X, y, cv=KFold(X.shape[0], n_folds=10, shuffle=True), scoring='mean_squared_error').mean()\n",
    "bag_scores_roc = cross_val_score(bag_cl, X, y, cv=KFold(X.shape[0], n_folds=10, shuffle=True), scoring='roc_auc').mean() \n",
    "end = time.time()\n",
    "time_1_BagDTC_opt = end-start\n",
    "print \"Accuracy of Decision Tree Bagging Classification Method with optimal Estimator (=2) : \" + str(bag_scores_acc)\n",
    "print \"ROC AUC of Decision Tree Bagging Classification Method with optimal Estimator (=2) : \" + str(bag_scores_roc)\n",
    "print \"RMSE of Decision Tree Bagging Classification Method with optimal Estimator (=2) : \" + str(bag_scores_mse)\n",
    "print \"Time: \" +str(time_1_BagDTC_opt)"
   ]
  },
  {
   "cell_type": "markdown",
   "metadata": {},
   "source": [
    "### 11. Random Forest Model"
   ]
  },
  {
   "cell_type": "code",
   "execution_count": null,
   "metadata": {
    "collapsed": false
   },
   "outputs": [],
   "source": [
    "start = time.time()\n",
    "rf_results = []\n",
    "leaf_options = [1, 2, 3, 4, 5, 6, 7, 8, 9, 10, 11, 12, 13, 14, 15, 16, 17, 18, 19, 20, 21, 22, 23, 24, 25]\n",
    "for min_samples in leaf_options:\n",
    "    rf = RandomForestClassifier(n_estimators=100, \n",
    "                                  oob_score=True, \n",
    "                                  n_jobs=-1, \n",
    "                                  random_state=42, \n",
    "                                  max_features=\"auto\", \n",
    "                                  min_samples_leaf=min_samples)\n",
    "    rf.fit(X, y)\n",
    "    roc = cross_val_score(rf, X, y, cv=KFold(X.shape[0], n_folds=10, shuffle=True), scoring='roc_auc').mean()\n",
    "    print str(min_samples) + \": C-stat: \"+ str(roc)\n",
    "    rf_results.append(roc)\n",
    "\n",
    "end = time.time()\n",
    "print \"Time = \" + str(end - start)"
   ]
  },
  {
   "cell_type": "code",
   "execution_count": null,
   "metadata": {
    "collapsed": false
   },
   "outputs": [],
   "source": [
    "# Find Optimal Depth \n",
    "start = time.time()\n",
    "r_range = range(1, 50)\n",
    "rf_scores_acc = []\n",
    "rf_scores_roc = []\n",
    "\n",
    "for k in r_range:\n",
    "    rfc = RandomForestClassifier(max_depth=k)\n",
    "    rf_scores_a = cross_val_score(rfc, X, y, cv=KFold(X.shape[0], n_folds=10, shuffle=True), scoring='accuracy')\n",
    "    rf_scores_acc.append(rf_scores_a.mean())\n",
    "    rf_scores_r = cross_val_score(rfc, X, y, cv=KFold(X.shape[0], n_folds=10, shuffle=True), scoring='roc_auc')\n",
    "    rf_scores_roc.append(rf_scores_r.mean())\n",
    "print rf_scores_acc\n",
    "print rf_scores_roc\n",
    "end = time.time()\n",
    "print \"Time = \" + str(end - start)"
   ]
  },
  {
   "cell_type": "code",
   "execution_count": null,
   "metadata": {
    "collapsed": false
   },
   "outputs": [],
   "source": [
    "import matplotlib\n",
    "%matplotlib nbagg\n",
    "plt.plot(r_range, rf_scores_acc)\n",
    "plt.xlabel('Depth')\n",
    "plt.ylabel('Accuracy')"
   ]
  },
  {
   "cell_type": "code",
   "execution_count": null,
   "metadata": {
    "collapsed": false
   },
   "outputs": [],
   "source": [
    "import matplotlib\n",
    "%matplotlib nbagg\n",
    "plt.plot(r_range, rf_scores_roc)\n",
    "plt.xlabel('Depth')\n",
    "plt.ylabel('ROC AUC')"
   ]
  },
  {
   "cell_type": "code",
   "execution_count": null,
   "metadata": {
    "collapsed": false
   },
   "outputs": [],
   "source": [
    "# Optimizing for maximum number of features\n",
    "results = []\n",
    "max_features_options = [\"auto\", None, \"sqrt\", \"log2\", 0.9, 0.2]\n",
    "\n",
    "for max_features in max_features_options:\n",
    "    rfc = RandomForestClassifier(n_estimators=44, oob_score=True, n_jobs=-1, random_state=42, max_features=max_features)\n",
    "    rfc.fit(X, y)\n",
    "    roc = cross_val_score(rfc, X, y, cv=KFold(X.shape[0], n_folds=10, shuffle=True), scoring='roc_auc').mean()\n",
    "    print max_features, \"option: C-stat = \", roc\n",
    "    results.append(roc)\n",
    "\n",
    "    "
   ]
  },
  {
   "cell_type": "code",
   "execution_count": 22,
   "metadata": {
    "collapsed": false
   },
   "outputs": [
    {
     "name": "stdout",
     "output_type": "stream",
     "text": [
      "Accuracy of Random Forest Classification Method with optimized parameters : 0.920680509245\n",
      "ROC AUC of Random Forest Classification Method with optimized parameters : 0.926564537681\n",
      "Time: 1670.59899998\n"
     ]
    }
   ],
   "source": [
    "# Re-run with optimized parameters\n",
    "start = time.time()\n",
    "rfc = RandomForestClassifier(n_estimators=44, max_features=\"sqrt\", max_depth=40,  oob_score=True, min_samples_leaf=5, random_state=42)\n",
    "rfc.fit(X.toarray(), y)\n",
    "rf_scores_acc = cross_val_score(rfc, X.toarray(), y, cv=KFold(X.shape[0], n_folds=10, shuffle=True), scoring='accuracy').mean()\n",
    "rfc = RandomForestClassifier(n_estimators=44, max_features=\"sqrt\", max_depth=40,  oob_score=True, min_samples_leaf=21, random_state=42)\n",
    "rfc.fit(X.toarray(), y)\n",
    "rf_scores_roc = cross_val_score(rfc, X.toarray(), y, cv=KFold(X.shape[0], n_folds=10, shuffle=True), scoring='roc_auc').mean()\n",
    "end = time.time()\n",
    "time_1_rf = end - start\n",
    "print \"Accuracy of Random Forest Classification Method with optimized parameters : \" + str(rf_scores_acc)\n",
    "print \"ROC AUC of Random Forest Classification Method with optimized parameters : \" + str(rf_scores_roc)\n",
    "print \"Time: \" +str(time_1_rf)"
   ]
  },
  {
   "cell_type": "markdown",
   "metadata": {},
   "source": [
    "### 13. Bagged Random Forest Model"
   ]
  },
  {
   "cell_type": "code",
   "execution_count": null,
   "metadata": {
    "collapsed": false
   },
   "outputs": [],
   "source": [
    "brf_range = range(1, 20)\n",
    "brf_scores_acc = []\n",
    "brf_scores_roc = []\n",
    "for k in brf_range:\n",
    "    brf = RandomForestClassifier(n_estimators=k, max_features=.2, max_depth=40,  oob_score=True, min_samples_leaf=5, random_state=42)\n",
    "    brf.fit(X, y)\n",
    "    brf_scores_a = cross_val_score(brf, X, y, cv=KFold(X.shape[0], n_folds=10, shuffle=True), scoring='accuracy')\n",
    "    brf_scores_acc.append(brf_scores_a.mean())\n",
    "    brf = RandomForestClassifier(n_estimators=k, max_features=.2, max_depth=40,  oob_score=True, min_samples_leaf=21, random_state=42)\n",
    "    brf.fit(X, y)\n",
    "    brf_scores_r = cross_val_score(brf, X, y, cv=KFold(X.shape[0], n_folds=10, shuffle=True), scoring='roc_auc')\n",
    "    brf_scores_roc.append(brf_scores_r.mean())\n",
    "\n",
    "print brf_scores_acc\n",
    "print brf_scores_roc\n"
   ]
  },
  {
   "cell_type": "code",
   "execution_count": null,
   "metadata": {
    "collapsed": false
   },
   "outputs": [],
   "source": [
    "import matplotlib\n",
    "%matplotlib nbagg\n",
    "\n",
    "plt.plot(brf_range, brf_scores_acc)\n",
    "plt.xlabel('N Estimators')\n",
    "plt.ylabel('Accuracy')"
   ]
  },
  {
   "cell_type": "code",
   "execution_count": null,
   "metadata": {
    "collapsed": false
   },
   "outputs": [],
   "source": [
    "import matplotlib\n",
    "%matplotlib nbagg\n",
    "\n",
    "plt.plot(brf_range, brf_scores_roc)\n",
    "plt.xlabel('N Estimators')\n",
    "plt.ylabel('ROC AUC')"
   ]
  },
  {
   "cell_type": "code",
   "execution_count": 19,
   "metadata": {
    "collapsed": false
   },
   "outputs": [
    {
     "name": "stdout",
     "output_type": "stream",
     "text": [
      "Accuracy of Bagged Random Forest Classification Method with optimized parameters : 0.915732040012\n",
      "ROC AUC of Bagged Random Forest Classification Method with optimized parameters : 0.921708033508\n",
      "Time: 751.220999956\n"
     ]
    }
   ],
   "source": [
    "start = time.time()\n",
    "brf = RandomForestClassifier(n_estimators=21, max_features=\"sqrt\", max_depth=40,  oob_score=True, min_samples_leaf=14, random_state=42)\n",
    "brf.fit(X.toarray(), y)\n",
    "brf_scores_acc = cross_val_score(brf, X.toarray(), y, cv=KFold(X.shape[0], n_folds=10, shuffle=True), scoring='accuracy').mean()\n",
    "brf = RandomForestClassifier(n_estimators=21, max_features=\"sqrt\", max_depth=40,  oob_score=True, min_samples_leaf=18, random_state=42)\n",
    "brf.fit(X.toarray(), y)\n",
    "brf_scores_roc = cross_val_score(brf, X.toarray(), y, cv=KFold(X.shape[0], n_folds=10, shuffle=True), scoring='roc_auc').mean()\n",
    "end = time.time()\n",
    "time_1_BRF = end - start\n",
    "print \"Accuracy of Bagged Random Forest Classification Method with optimized parameters : \" + str(brf_scores_acc)\n",
    "print \"ROC AUC of Bagged Random Forest Classification Method with optimized parameters : \" + str(brf_scores_roc)\n",
    "print \"Time: \" +str(time_1_BRF)"
   ]
  },
  {
   "cell_type": "markdown",
   "metadata": {},
   "source": [
    "### 13. Extra Tree Classifier Model"
   ]
  },
  {
   "cell_type": "code",
   "execution_count": 20,
   "metadata": {
    "collapsed": false
   },
   "outputs": [
    {
     "name": "stdout",
     "output_type": "stream",
     "text": [
      "Accuracy of Extra Tree Classification Method : 0.907388602607\n",
      "ROC AUC of Extra Tree Classification Method : 0.772882004663\n",
      "Time: 24.1670000553\n"
     ]
    }
   ],
   "source": [
    "start = time.time()\n",
    "extree = ExtraTreesClassifier(random_state = 40, min_samples_split=1, bootstrap = True, max_depth = 7)\n",
    "extree_scores_acc = cross_val_score(extree, X, y, cv=KFold(X.shape[0], n_folds=10, shuffle=True), scoring = 'accuracy').mean()\n",
    "extree_scores_roc = cross_val_score(extree, X, y, cv=KFold(X.shape[0], n_folds=10, shuffle=True), scoring = 'roc_auc').mean()\n",
    "end = time.time()\n",
    "time_1_ExTree = end - start\n",
    "print \"Accuracy of Extra Tree Classification Method : \" + str(extree_scores_acc)\n",
    "print \"ROC AUC of Extra Tree Classification Method : \" + str(extree_scores_roc)\n",
    "print \"Time: \" +str(time_1_ExTree)"
   ]
  },
  {
   "cell_type": "markdown",
   "metadata": {},
   "source": [
    "### Results for Dataset 2"
   ]
  },
  {
   "cell_type": "code",
   "execution_count": null,
   "metadata": {
    "collapsed": false,
    "scrolled": true
   },
   "outputs": [],
   "source": [
    "import matplotlib\n",
    "%matplotlib nbagg\n",
    "from sklearn import metrics\n",
    "import pandas as pd\n",
    "from ggplot import *\n",
    "\n",
    "nullmodel_preds = nullmodel.predict_proba(X_test)[:,1]\n",
    "nullmodel_fpr, nullmodel_tpr, _ = metrics.roc_curve(y_test, nullmodel_preds)\n",
    "\n",
    "lreg.fit(X,y)\n",
    "lreg_preds = lreg.predict_proba(X_test)[:,1]\n",
    "lreg_fpr, lreg_tpr, _ = metrics.roc_curve(y_test, lreg_preds)\n",
    "\n",
    "#knn.fit(X,y)\n",
    "#knn_preds = knn.predict_proba(X_test)[:,1]\n",
    "#knn_fpr, knn_tpr, _ = metrics.roc_curve(y_test, knn_preds)\n",
    "\n",
    "nbm.fit(X,y)\n",
    "nbm_preds = nbm.predict_proba(X_test)[:,1]\n",
    "nbm_fpr, nbm_tpr, _ = metrics.roc_curve(y_test, nbm_preds)\n",
    "\n",
    "nbg.fit(X,y)\n",
    "nbg_preds = nbg.predict_proba(X_test)[:,1]\n",
    "nbg_fpr, nbg_tpr, _ = metrics.roc_curve(y_test, nbg_preds)\n",
    "\n",
    "nbb.fit(X,y)\n",
    "nbb_preds = nbb.predict_proba(X_test)[:,1]\n",
    "nbb_fpr, nbb_tpr, _ = metrics.roc_curve(y_test, nbb_preds)\n",
    "\n",
    "#svmpoly.fit(X,y)\n",
    "#svmpoly_preds = svmpoly.predict_proba(X_test)[:,1]\n",
    "#svmpoly_fpr, svmpoly_tpr, _ = metrics.roc_curve(y_test, svmpoly_preds)\n",
    "\n",
    "#svmrbf.fit(X,y)\n",
    "#svmpoly_preds = svmrbf.predict_proba(X_test)[:,1]\n",
    "#svmrbf_fpr, svmrbf_tpr, _ = metrics.roc_curve(y_test, svmrbf_preds)\n",
    "\n",
    "dtc.fit(X,y)\n",
    "dtc_preds = dtc.predict_proba(X_test)[:,1]\n",
    "dtc_fpr, dtc_tpr, _ = metrics.roc_curve(y_test, dtc_preds)\n",
    "\n",
    "bag_cl_preds = bag_cl.predict_proba(X_test)[:,1]\n",
    "bag_fpr, bag_tpr, _ = metrics.roc_curve(y_test, bag_cl_preds)\n",
    "\n",
    "rfc_preds = rfc.predict_proba(X_test)[:,1]\n",
    "rfc_fpr, rfc_tpr, _ = metrics.roc_curve(y_test, rfc_preds)\n",
    "\n",
    "brf_preds = brf.predict_proba(X_test)[:,1]\n",
    "brf_fpr, brf_tpr, _ = metrics.roc_curve(y_test, brf_preds)\n",
    "\n",
    "extree.fit(X,y)\n",
    "extree_preds = extree.predict_proba(X_test)[:,1]\n",
    "extree_fpr, extree_tpr, _ = metrics.roc_curve(y_test, extree_preds)\n",
    "\n",
    "plt.plot(nullmodel_fpr, nullmodel_tpr, label='Null', color='green') # Null Model\n",
    "plt.plot(lreg_fpr, lreg_tpr, label='Logistic Regression', color='red') # Logistic Regression\n",
    "#plt.plot(knn_fpr, knn_tpr, label='KNN', color='blue') # kNN\n",
    "plt.plot(nbm_fpr, nbm_tpr, label='Naive Bayes Multinomial', color='seagreen') # Naive Bayes - Multinomial\n",
    "plt.plot(nbg_fpr, nbg_tpr, label='Naive Bayes Gaussian', color='magenta') # Naive Bayes - Gaussian\n",
    "plt.plot(nbb_fpr, nbb_tpr, label='Naive Bayes Bernoulli', color='cyan') # Naive Bayes - Bernoulli\n",
    "#plt.plot(svmpoly_fpr, svmpoly_tpr, label='SVM Polynomial', color='LimeGreen') # Naive Bayes - Bernoulli\n",
    "#plt.plot(svmrbf_fpr, svmrbf_tpr, label='SVM Gaussian', color='CadmiumYellowLight') # Naive Bayes - Bernoulli\n",
    "plt.plot(dtc_fpr, dtc_tpr, label='Decision Tree', color='Beige') # Decision Tree Classification\n",
    "plt.plot(bag_fpr, bag_tpr, label='Bagged Decision Tree', color='indianred') # Bagged Decision Tree\n",
    "plt.plot(rfc_fpr, rfc_tpr, label='Random Forest', color='Aqua') #Bagged Random Forest\n",
    "plt.plot(brf_fpr, brf_tpr, label='Bagged Random Forest', color='brown') #Bagged Random Forest\n",
    "plt.plot(extree_fpr, extree_tpr, label='Extra Tree', color='black') #Extra Tree\n",
    "\n",
    "\n",
    "plt.legend()\n",
    "\n",
    "plt.xlim([0.0, 1.0])\n",
    "plt.ylim([0.0, 1.0])\n",
    "plt.xlabel('False Positive Rate (1 - Specificity)')\n",
    "plt.ylabel('True Positive Rate (Sensitivity)')"
   ]
  },
  {
   "cell_type": "code",
   "execution_count": null,
   "metadata": {
    "collapsed": false
   },
   "outputs": [],
   "source": [
    "import matplotlib\n",
    "%matplotlib nbagg\n",
    "from sklearn import metrics\n",
    "import pandas as pd\n",
    "from ggplot import *\n",
    "\n",
    "plt.plot([1, 1.5], [exp(null_score_acc), log(time_1_null)], label='Null Model', color='green')\n",
    "plt.plot([1, 1.5], [exp(lreg_scores_acc), log(time_1_logreg)], label='Logistic Regression', color='red')\n",
    "#plt.plot([1, 1.5], [exp(knn_scores_acc), log(time_1_knn)], label='KNN', color='blue')\n",
    "plt.plot([1, 1.5], [exp(nbm_scores_acc), log(time_1_nbm)], label='Naive Bayes - Multinomial', color='purple')\n",
    "plt.plot([1, 1.5], [exp(nbg_scores_acc), log(time_1_nbg)], label='Naive Bayes - Gaussian', color='magenta')\n",
    "plt.plot([1, 1.5], [exp(nbb_scores_acc), log(time_1_nbb)], label='Naive Bayes - Bernoulli', color='cyan')\n",
    "#plt.plot([1, 1.5], [exp(svmpoly_acc), log(time_1_svmpoly)], label='SVM Polynomial', color='LimeGreen')\n",
    "#plt.plot([1, 1.5], [exp(svmrbf_acc), log(time_1_svmrbf)], label='SVM Gaussian', color='CadmiumYellowLight')\n",
    "plt.plot([1, 1.5], [exp(dtc_scores_acc), log(time_1_DTC_opt)], label='Decision Tree Classification', color='Beige')\n",
    "plt.plot([1, 1.5], [exp(bag_scores_acc), log(time_1_BagDTC_opt)], label='Decision Tree Bagging', color='indianred')\n",
    "plt.plot([1, 1.5], [exp(rf_scores_acc), log(time_1_rf)], label='Random Forest', color='Aqua')\n",
    "plt.plot([1, 1.5], [exp(brf_scores_acc), log(time_1_BRF)], label='Random Forest Bagging', color='brown')\n",
    "plt.plot([1, 1.5], [exp(extree_scores_acc), log(time_1_ExTree)], label='Extra Trees Classification', color='black')\n",
    "\n",
    "pylab.xlim([0.9 , 1.6])\n",
    "plt.legend(bbox_to_anchor=(1, 1), loc=2, borderaxespad=0.)\n",
    "plt.xlabel('Accuracy and ROC AUC/Time')"
   ]
  }
 ],
 "metadata": {
  "kernelspec": {
   "display_name": "Python 2",
   "language": "python",
   "name": "python2"
  },
  "language_info": {
   "codemirror_mode": {
    "name": "ipython",
    "version": 2
   },
   "file_extension": ".py",
   "mimetype": "text/x-python",
   "name": "python",
   "nbconvert_exporter": "python",
   "pygments_lexer": "ipython2",
   "version": "2.7.11"
  }
 },
 "nbformat": 4,
 "nbformat_minor": 0
}
